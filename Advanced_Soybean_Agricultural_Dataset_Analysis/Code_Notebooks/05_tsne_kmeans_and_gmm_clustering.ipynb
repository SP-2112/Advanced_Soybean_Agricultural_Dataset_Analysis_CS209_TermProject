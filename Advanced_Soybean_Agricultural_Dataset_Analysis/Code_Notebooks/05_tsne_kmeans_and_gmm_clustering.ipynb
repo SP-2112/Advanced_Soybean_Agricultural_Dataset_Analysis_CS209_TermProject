{
 "cells": [
  {
   "cell_type": "code",
   "execution_count": null,
   "id": "584ef097",
   "metadata": {},
   "outputs": [],
   "source": [
    "# 🔍 t-SNE + KMeans\n",
    "from sklearn.manifold import TSNE\n",
    "from sklearn.metrics import calinski_harabasz_score, davies_bouldin_score\n",
    "\n",
    "# Use same scaled data\n",
    "tsne = TSNE(n_components=2, perplexity=30, learning_rate=200, random_state=42)\n",
    "tsne_data = pd.DataFrame(tsne.fit_transform(scaled_data), columns=[\"PC1\", \"PC2\"])\n",
    "\n",
    "k = 6\n",
    "kmeans_tsne = KMeans(n_clusters=k, random_state=42)\n",
    "tsne_data[\"cluster\"] = kmeans_tsne.fit_predict(tsne_data)\n",
    "\n",
    "# Scores\n",
    "sil = silhouette_score(tsne_data, tsne_data[\"cluster\"])\n",
    "dbi = davies_bouldin_score(tsne_data, tsne_data[\"cluster\"])\n",
    "ch = calinski_harabasz_score(tsne_data, tsne_data[\"cluster\"])\n",
    "print(f\"K={k} | Silhouette={sil:.4f} | DBI={dbi:.4f} | CH={ch:.4f}\")\n",
    "\n",
    "# Plot\n",
    "sns.scatterplot(data=tsne_data, x='PC1', y='PC2', hue='cluster', palette='tab10')\n",
    "plt.title(f'tSNE + KMeans Clustering (K={k})')\n",
    "plt.grid(True)\n",
    "plt.show()\n"
   ]
  },
  {
   "cell_type": "markdown",
   "id": "2d21886a",
   "metadata": {},
   "source": [
    "🔹 GMM (Soft Clustering) on Output Features Only"
   ]
  },
  {
   "cell_type": "code",
   "execution_count": null,
   "id": "ee9a91f4",
   "metadata": {},
   "outputs": [],
   "source": [
    "from sklearn.mixture import GaussianMixture\n",
    "\n",
    "X = scaled_data.iloc[:, :-3]  # Drop C, S, G\n",
    "pca_out = PCA(n_components=2)\n",
    "X_pca_out = pd.DataFrame(pca_out.fit_transform(X), columns=[\"pca1\", \"pca2\"])\n",
    "\n",
    "bics, aics = [], []\n",
    "for k in range(1, 10):\n",
    "    gmm = GaussianMixture(n_components=k, random_state=42)\n",
    "    gmm.fit(X_pca_out)\n",
    "    bics.append(gmm.bic(X_pca_out))\n",
    "    aics.append(gmm.aic(X_pca_out))\n",
    "\n",
    "plt.plot(range(1, 10), bics, label=\"BIC\", marker='o')\n",
    "plt.plot(range(1, 10), aics, label=\"AIC\", marker='o')\n",
    "plt.title(\"GMM Clustering - BIC & AIC\")\n",
    "plt.legend()\n",
    "plt.show()\n",
    "\n",
    "# Fit optimal\n",
    "optimal_k = 5\n",
    "gmm = GaussianMixture(n_components=optimal_k, random_state=42)\n",
    "labels = gmm.fit_predict(X_pca_out)\n",
    "X_pca_out[\"cluster\"] = labels\n",
    "\n",
    "sns.scatterplot(data=X_pca_out, x='pca1', y='pca2', hue='cluster', palette=\"tab10\")\n",
    "plt.title(f'GMM Clustering (K={optimal_k})')\n",
    "plt.grid(True)\n",
    "plt.show()\n"
   ]
  }
 ],
 "metadata": {
  "language_info": {
   "name": "python"
  }
 },
 "nbformat": 4,
 "nbformat_minor": 5
}
