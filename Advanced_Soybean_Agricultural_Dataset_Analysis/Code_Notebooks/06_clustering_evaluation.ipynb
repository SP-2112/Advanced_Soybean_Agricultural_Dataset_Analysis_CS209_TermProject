{
 "cells": [
  {
   "cell_type": "code",
   "execution_count": null,
   "id": "add51abc",
   "metadata": {},
   "outputs": [],
   "source": [
    "# 📊 Cluster Evaluation Metrics\n",
    "from sklearn.metrics import silhouette_score, davies_bouldin_score, calinski_harabasz_score\n",
    "\n",
    "models = [kmeans_model_5, kmeans_model_6, kmeans_model_7, kmeans_tsne]\n",
    "model_names = [\"K=5 (PCA)\", \"K=6 (PCA)\", \"K=7 (PCA)\", \"K=6 (tSNE)\"]\n",
    "metrics_df = pd.DataFrame(columns=[\"Model\", \"Silhouette\", \"DBI\", \"Calinski-Harabasz\"])\n",
    "\n",
    "for model, name in zip(models, model_names):\n",
    "    labels = model.predict(pca_data)\n",
    "    silhouette = silhouette_score(pca_data, labels)\n",
    "    dbi = davies_bouldin_score(pca_data, labels)\n",
    "    ch = calinski_harabasz_score(pca_data, labels)\n",
    "    metrics_df = metrics_df.append({\n",
    "        \"Model\": name,\n",
    "        \"Silhouette\": silhouette,\n",
    "        \"DBI\": dbi,\n",
    "        \"Calinski-Harabasz\": ch\n",
    "    }, ignore_index=True)\n",
    "\n",
    "# Plotting\n",
    "plt.figure(figsize=(10, 5))\n",
    "sns.lineplot(data=metrics_df, x=\"Model\", y=\"Silhouette\", label=\"Silhouette\", marker='o')\n",
    "sns.lineplot(data=metrics_df, x=\"Model\", y=\"DBI\", label=\"DBI\", marker='o')\n",
    "plt.title(\"Cluster Evaluation (Silhouette & DBI)\")\n",
    "plt.xticks(rotation=45)\n",
    "plt.grid(True)\n",
    "plt.legend()\n",
    "plt.show()\n",
    "\n",
    "sns.lineplot(data=metrics_df, x=\"Model\", y=\"Calinski-Harabasz\", marker='o')\n",
    "plt.title(\"Cluster Evaluation (Calinski-Harabasz)\")\n",
    "plt.xticks(rotation=45)\n",
    "plt.grid(True)\n",
    "plt.show()\n"
   ]
  }
 ],
 "metadata": {
  "language_info": {
   "name": "python"
  }
 },
 "nbformat": 4,
 "nbformat_minor": 5
}
