{
 "cells": [
  {
   "cell_type": "code",
   "execution_count": null,
   "id": "b01a6a58",
   "metadata": {},
   "outputs": [],
   "source": [
    "# 📦 KMeans Clustering on PCA(2) data\n",
    "import pandas as pd\n",
    "from sklearn.preprocessing import StandardScaler\n",
    "from sklearn.decomposition import PCA\n",
    "from sklearn.cluster import KMeans\n",
    "from sklearn.metrics import silhouette_score\n",
    "import matplotlib.pyplot as plt\n",
    "import seaborn as sns\n",
    "from sklearn.model_selection import ParameterGrid\n",
    "\n",
    "# Load and prepare data\n",
    "full_data = pd.read_csv('3_direct_encoded.csv')\n",
    "data_v2 = full_data.iloc[:, 2:]  # Exclude ID & Parameters\n",
    "scaler = StandardScaler()\n",
    "scaled_data = pd.DataFrame(scaler.fit_transform(data_v2), columns=data_v2.columns)\n",
    "\n",
    "# PCA transformation\n",
    "pca = PCA(n_components=2)\n",
    "pca_data = pd.DataFrame(pca.fit_transform(scaled_data), columns=[\"PC1\", \"PC2\"])\n",
    "\n",
    "# Elbow & Silhouette Analysis\n",
    "params = {'n_clusters': range(2, 20)}\n",
    "inertia_values = []\n",
    "\n",
    "divide = int(len(pca_data) * 0.8)\n",
    "pca_data_train = pca_data[:divide]\n",
    "pca_data_test = pca_data[divide:]\n",
    "\n",
    "for param in ParameterGrid(params):\n",
    "    kmeans = KMeans(n_clusters=param['n_clusters'], random_state=42)\n",
    "    kmeans.fit(pca_data_train)\n",
    "    preds = kmeans.predict(pca_data_test)\n",
    "    score = silhouette_score(pca_data_test, preds)\n",
    "    inertia_values.append(kmeans.inertia_)\n",
    "    print(f\"K={param['n_clusters']}, Silhouette Score={score:.4f}\")\n",
    "\n",
    "# Elbow Plot\n",
    "elbow_df = pd.DataFrame({'K': list(range(2, 20)), 'Inertia': inertia_values})\n",
    "sns.lineplot(data=elbow_df, x=\"K\", y=\"Inertia\", marker=\"o\")\n",
    "plt.title(\"Elbow Method\")\n",
    "plt.show()\n"
   ]
  },
  {
   "cell_type": "markdown",
   "id": "8503c83d",
   "metadata": {},
   "source": [
    "🔹 Clustering and Visualization for k=5, 6, 7"
   ]
  },
  {
   "cell_type": "code",
   "execution_count": null,
   "id": "a969e44e",
   "metadata": {},
   "outputs": [],
   "source": [
    "def run_kmeans_and_plot(pca_data, k, title):\n",
    "    model = KMeans(n_clusters=k, random_state=42)\n",
    "    model.fit(pca_data)\n",
    "    preds = model.predict(pca_data)\n",
    "    score = silhouette_score(pca_data, preds)\n",
    "\n",
    "    pca_clustered = pca_data.copy()\n",
    "    pca_clustered[\"cluster\"] = preds\n",
    "\n",
    "    print(f\"\\nSilhouette Score (K={k}): {score:.4f}\")\n",
    "    plt.figure(figsize=(8, 5))\n",
    "    sns.scatterplot(data=pca_clustered, x='PC1', y='PC2', hue='cluster', palette='tab10', s=60)\n",
    "    plt.title(title)\n",
    "    plt.grid(True)\n",
    "    plt.show()\n",
    "\n",
    "    return model, pca_clustered\n",
    "\n",
    "# Run for K = 5, 6, 7\n",
    "kmeans_model_5, pca_clustered_5 = run_kmeans_and_plot(pca_data, 5, \"KMeans Clustering (K=5)\")\n",
    "kmeans_model_6, pca_clustered_6 = run_kmeans_and_plot(pca_data, 6, \"KMeans Clustering (K=6)\")\n",
    "kmeans_model_7, pca_clustered_7 = run_kmeans_and_plot(pca_data, 7, \"KMeans Clustering (K=7)\")\n"
   ]
  }
 ],
 "metadata": {
  "language_info": {
   "name": "python"
  }
 },
 "nbformat": 4,
 "nbformat_minor": 5
}
