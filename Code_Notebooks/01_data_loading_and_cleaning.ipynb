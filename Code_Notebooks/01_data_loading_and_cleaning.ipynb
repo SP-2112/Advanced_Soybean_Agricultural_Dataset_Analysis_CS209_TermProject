{
  "cells": [
    {
      "cell_type": "code",
      "execution_count": null,
      "id": "038eea3a",
      "metadata": {
        "id": "038eea3a"
      },
      "outputs": [],
      "source": [
        "import pandas as pd\n",
        "import gdown\n",
        "\n",
        "# Google Drive file ID\n",
        "file_id = '18aKFcGHI_jYhjFe-_Pf9YFxzf9GIiB42'\n",
        "url = f'https://drive.google.com/uc?export=download&id={file_id}'\n",
        "gdown.download(url, '3.csv', quiet=False)\n",
        "\n",
        "# Load and inspect\n",
        "dataset_duplicates_removed = pd.read_csv('3.csv')\n",
        "print(\"Original shape:\", dataset_duplicates_removed.shape)\n",
        "print(\"Duplicates found:\", dataset_duplicates_removed.duplicated().sum())\n",
        "\n",
        "# Drop duplicates\n",
        "dataset_duplicates_removed = dataset_duplicates_removed.drop_duplicates()\n",
        "print(\"After removing duplicates:\", dataset_duplicates_removed.shape)\n",
        "\n",
        "# Save cleaned version\n",
        "dataset_duplicates_removed.to_csv('3_duplicates_removed.csv', index=False)"
      ]
    }
  ],
  "metadata": {
    "language_info": {
      "name": "python"
    },
    "colab": {
      "provenance": []
    }
  },
  "nbformat": 4,
  "nbformat_minor": 5
}