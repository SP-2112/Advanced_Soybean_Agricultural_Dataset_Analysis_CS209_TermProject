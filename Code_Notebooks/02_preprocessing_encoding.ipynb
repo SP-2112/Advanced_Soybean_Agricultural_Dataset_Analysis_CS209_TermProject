{
 "cells": [
  {
   "cell_type": "markdown",
   "id": "e290877b",
   "metadata": {},
   "source": [
    "🔹 Block 1: Direct Ordinal Encoding (3_direct_encoded.csv)"
   ]
  },
  {
   "cell_type": "code",
   "execution_count": null,
   "id": "0852e4e8",
   "metadata": {},
   "outputs": [],
   "source": [
    "# 📊 Direct Ordinal Encoding of C, S, G from Parameters\n",
    "import pandas as pd\n",
    "\n",
    "full_data = pd.read_csv('3_duplicates_removed.csv')\n",
    "\n",
    "C, S, G = [], [], []\n",
    "for param in full_data[\"Parameters\"]:\n",
    "    C.append(int(param.split(\"S\")[0][-1]))\n",
    "    S.append(int(param.split(\"S\")[1][0]))\n",
    "    G.append(int(param.split(\"G\")[1][0]))\n",
    "\n",
    "full_data[\"C\"] = C\n",
    "full_data[\"S\"] = S\n",
    "full_data[\"G\"] = G\n",
    "\n",
    "# Save the directly encoded version\n",
    "full_data.to_csv(\"3_direct_encoded.csv\", index=False)\n"
   ]
  },
  {
   "cell_type": "markdown",
   "id": "1a594532",
   "metadata": {},
   "source": [
    "🔹 Block 2: One-Hot Encoding (3_one_hot_encoded.csv)"
   ]
  },
  {
   "cell_type": "code",
   "execution_count": null,
   "id": "33f3dea3",
   "metadata": {},
   "outputs": [],
   "source": [
    "# 🧩 One-Hot Encoding of C, S, G\n",
    "full_data_onehot = pd.get_dummies(full_data, columns=[\"Parameters\"], prefix=\"Param\", drop_first=True)\n",
    "# Optionally also one-hot encode C, S, G if needed\n",
    "full_data_onehot = pd.get_dummies(full_data_onehot, columns=[\"C\", \"S\", \"G\"], prefix=[\"C\", \"S\", \"G\"], drop_first=True)\n",
    "\n",
    "# Save to file\n",
    "full_data_onehot.to_csv(\"3_one_hot_encoded.csv\", index=False)"
   ]
  }
 ],
 "metadata": {
  "language_info": {
   "name": "python"
  }
 },
 "nbformat": 4,
 "nbformat_minor": 5
}
