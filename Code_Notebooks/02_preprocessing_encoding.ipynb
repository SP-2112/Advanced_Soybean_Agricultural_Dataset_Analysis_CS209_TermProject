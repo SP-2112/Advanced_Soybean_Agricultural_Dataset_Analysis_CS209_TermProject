{
  "cells": [
    {
      "cell_type": "markdown",
      "metadata": {
        "id": "view-in-github",
        "colab_type": "text"
      },
      "source": [
        "<a href=\"https://colab.research.google.com/github/UtkarshRaj130/Advanced_Soybean_Agricultural_Dataset_Analysis/blob/main/Code_Notebooks/02_preprocessing_encoding.ipynb\" target=\"_parent\"><img src=\"https://colab.research.google.com/assets/colab-badge.svg\" alt=\"Open In Colab\"/></a>"
      ]
    },
    {
      "cell_type": "markdown",
      "source": [
        "Download Dataset from GitHub - This Repo"
      ],
      "metadata": {
        "id": "nYIn_dyM_46a"
      },
      "id": "nYIn_dyM_46a"
    },
    {
      "cell_type": "code",
      "source": [
        "!wget https://raw.githubusercontent.com/UtkarshRaj130/Advanced_Soybean_Agricultural_Dataset_Analysis/refs/heads/main/Dataset/3_duplicates_removed.csv?token=GHSAT0AAAAAADCATCXNNIWDUWI5VZRBDKEYZ7ZMK3A -O 3.csv"
      ],
      "metadata": {
        "colab": {
          "base_uri": "https://localhost:8080/"
        },
        "id": "GCckBqf8_4l_",
        "outputId": "5249ef69-44a1-4f6f-e02f-fbf8b00b43f0"
      },
      "id": "GCckBqf8_4l_",
      "execution_count": 15,
      "outputs": [
        {
          "output_type": "stream",
          "name": "stdout",
          "text": [
            "--2025-04-11 18:42:33--  https://raw.githubusercontent.com/UtkarshRaj130/Advanced_Soybean_Agricultural_Dataset_Analysis/refs/heads/main/Dataset/3_duplicates_removed.csv?token=GHSAT0AAAAAADCATCXNNIWDUWI5VZRBDKEYZ7ZMK3A\n",
            "Resolving raw.githubusercontent.com (raw.githubusercontent.com)... 185.199.108.133, 185.199.109.133, 185.199.110.133, ...\n",
            "Connecting to raw.githubusercontent.com (raw.githubusercontent.com)|185.199.108.133|:443... connected.\n",
            "HTTP request sent, awaiting response... 200 OK\n",
            "Length: 8439 (8.2K) [text/plain]\n",
            "Saving to: ‘3.csv’\n",
            "\n",
            "3.csv               100%[===================>]   8.24K  --.-KB/s    in 0.001s  \n",
            "\n",
            "2025-04-11 18:42:35 (6.14 MB/s) - ‘3.csv’ saved [8439/8439]\n",
            "\n"
          ]
        }
      ]
    },
    {
      "cell_type": "markdown",
      "id": "e290877b",
      "metadata": {
        "id": "e290877b"
      },
      "source": [
        "🔹 Block 1: Direct Ordinal Encoding (3_direct_encoded.csv)"
      ]
    },
    {
      "cell_type": "code",
      "execution_count": 16,
      "id": "0852e4e8",
      "metadata": {
        "colab": {
          "base_uri": "https://localhost:8080/"
        },
        "id": "0852e4e8",
        "outputId": "268d6f7f-b03c-4529-f43b-f7d3b10820a5"
      },
      "outputs": [
        {
          "output_type": "stream",
          "name": "stdout",
          "text": [
            "    Parameters Random   Plant Height (PH)  Number of Pods (NP)  \\\n",
            "0       C1S1G5      R1               50.5                130.3   \n",
            "1       C2S3G4      R1               44.5                132.0   \n",
            "2       C2S1G6      R1               52.2                150.0   \n",
            "3       C1S1G1      R1               50.5                140.8   \n",
            "4       C1S2G6      R2               49.2                175.6   \n",
            "..         ...     ...                ...                  ...   \n",
            "103     C1S2G3      R3               44.0                209.0   \n",
            "104     C1S3G2      R2               53.3                160.0   \n",
            "105     C2S1G5      R2               50.2                148.3   \n",
            "106     C2S2G4      R1               52.2                156.0   \n",
            "107     C1S1G6      R3               46.6                146.0   \n",
            "\n",
            "     Biological Weight (BW)  Sugars (Su)  \\\n",
            "0                       111        0.433   \n",
            "1                        80        0.334   \n",
            "2                        83        0.490   \n",
            "3                        66        0.163   \n",
            "4                        73        0.795   \n",
            "..                      ...          ...   \n",
            "103                     132        0.663   \n",
            "104                     130        0.165   \n",
            "105                     151        1.115   \n",
            "106                      66        0.295   \n",
            "107                     112        0.450   \n",
            "\n",
            "     Relative Water Content in Leaves (RWCL)  ChlorophyllA663  \\\n",
            "0                                      0.732              1.4   \n",
            "1                                      0.674              7.1   \n",
            "2                                      0.677              1.8   \n",
            "3                                      0.745              1.1   \n",
            "4                                      0.725              7.5   \n",
            "..                                       ...              ...   \n",
            "103                                    0.875              9.0   \n",
            "104                                    0.651              1.8   \n",
            "105                                    0.683              6.1   \n",
            "106                                    0.632              6.9   \n",
            "107                                    0.749              1.6   \n",
            "\n",
            "     Chlorophyllb649  Protein Percentage (PPE)  Weight of 300 Seeds (W3S)  \\\n",
            "0                3.1                      33.2                       33.6   \n",
            "1                2.2                      38.5                       34.4   \n",
            "2                1.3                      33.6                       35.2   \n",
            "3                3.0                      33.5                       52.3   \n",
            "4                2.1                      39.6                       31.2   \n",
            "..               ...                       ...                        ...   \n",
            "103              1.3                      39.7                       31.2   \n",
            "104              3.2                      33.6                       34.5   \n",
            "105              1.2                      37.2                       37.2   \n",
            "106              1.1                      32.3                       35.3   \n",
            "107              2.0                      36.6                       32.2   \n",
            "\n",
            "     Leaf Area Index (LAI)  Seed Yield per Unit Area (SYUA)  \\\n",
            "0                     0.08                           5567.4   \n",
            "1                     0.09                           2245.5   \n",
            "2                     0.07                           4326.7   \n",
            "3                     0.09                           6214.5   \n",
            "4                     0.10                           3897.8   \n",
            "..                     ...                              ...   \n",
            "103                   0.06                           4472.7   \n",
            "104                   0.10                           5643.7   \n",
            "105                   0.10                           3067.1   \n",
            "106                   0.09                           3112.2   \n",
            "107                   0.07                           3116.3   \n",
            "\n",
            "     Number of Seeds per Pod (NSP)  Protein Content (PCO)  C  S  G  \n",
            "0                             1.86                   0.82  1  1  5  \n",
            "1                             1.87                   0.13  2  3  4  \n",
            "2                             2.04                   0.15  2  1  6  \n",
            "3                             2.20                   0.14  1  1  1  \n",
            "4                             1.88                   0.60  1  2  6  \n",
            "..                             ...                    ... .. .. ..  \n",
            "103                           2.60                   0.32  1  2  3  \n",
            "104                           2.60                   0.36  1  3  2  \n",
            "105                           1.80                   1.15  2  1  5  \n",
            "106                           2.10                   0.17  2  2  4  \n",
            "107                           1.90                   0.42  1  1  6  \n",
            "\n",
            "[108 rows x 18 columns]\n"
          ]
        }
      ],
      "source": [
        "# 📊 Direct Ordinal Encoding of C, S, G from Parameters\n",
        "import pandas as pd\n",
        "\n",
        "full_data = pd.read_csv('3_duplicates_removed.csv')\n",
        "\n",
        "C, S, G = [], [], []\n",
        "for param in full_data[\"Parameters\"]:\n",
        "    C.append(int(param.split(\"S\")[0][-1]))\n",
        "    S.append(int(param.split(\"S\")[1][0]))\n",
        "    G.append(int(param.split(\"G\")[1][0]))\n",
        "\n",
        "full_data[\"C\"] = C\n",
        "full_data[\"S\"] = S\n",
        "full_data[\"G\"] = G\n",
        "\n",
        "# Print the directly encoded version\n",
        "print(full_data)\n",
        "\n",
        "# Save the directly encoded version\n",
        "full_data.to_csv(\"3_direct_encoded.csv\", index=False)\n"
      ]
    },
    {
      "cell_type": "markdown",
      "id": "1a594532",
      "metadata": {
        "id": "1a594532"
      },
      "source": [
        "🔹 Block 2: One-Hot Encoding (3_one_hot_encoded.csv)"
      ]
    },
    {
      "cell_type": "code",
      "execution_count": 17,
      "id": "33f3dea3",
      "metadata": {
        "colab": {
          "base_uri": "https://localhost:8080/"
        },
        "id": "33f3dea3",
        "outputId": "e98cf42f-5085-42c5-c3e0-9fc379e10334"
      },
      "outputs": [
        {
          "output_type": "stream",
          "name": "stdout",
          "text": [
            "    Parameters Random   Plant Height (PH)  Number of Pods (NP)  \\\n",
            "0       C1S1G5      R1               50.5                130.3   \n",
            "1       C2S3G4      R1               44.5                132.0   \n",
            "2       C2S1G6      R1               52.2                150.0   \n",
            "3       C1S1G1      R1               50.5                140.8   \n",
            "4       C1S2G6      R2               49.2                175.6   \n",
            "..         ...     ...                ...                  ...   \n",
            "103     C1S2G3      R3               44.0                209.0   \n",
            "104     C1S3G2      R2               53.3                160.0   \n",
            "105     C2S1G5      R2               50.2                148.3   \n",
            "106     C2S2G4      R1               52.2                156.0   \n",
            "107     C1S1G6      R3               46.6                146.0   \n",
            "\n",
            "     Biological Weight (BW)  Sugars (Su)  \\\n",
            "0                       111        0.433   \n",
            "1                        80        0.334   \n",
            "2                        83        0.490   \n",
            "3                        66        0.163   \n",
            "4                        73        0.795   \n",
            "..                      ...          ...   \n",
            "103                     132        0.663   \n",
            "104                     130        0.165   \n",
            "105                     151        1.115   \n",
            "106                      66        0.295   \n",
            "107                     112        0.450   \n",
            "\n",
            "     Relative Water Content in Leaves (RWCL)  ChlorophyllA663  \\\n",
            "0                                      0.732              1.4   \n",
            "1                                      0.674              7.1   \n",
            "2                                      0.677              1.8   \n",
            "3                                      0.745              1.1   \n",
            "4                                      0.725              7.5   \n",
            "..                                       ...              ...   \n",
            "103                                    0.875              9.0   \n",
            "104                                    0.651              1.8   \n",
            "105                                    0.683              6.1   \n",
            "106                                    0.632              6.9   \n",
            "107                                    0.749              1.6   \n",
            "\n",
            "     Chlorophyllb649  Protein Percentage (PPE)  ...  \\\n",
            "0                3.1                      33.2  ...   \n",
            "1                2.2                      38.5  ...   \n",
            "2                1.3                      33.6  ...   \n",
            "3                3.0                      33.5  ...   \n",
            "4                2.1                      39.6  ...   \n",
            "..               ...                       ...  ...   \n",
            "103              1.3                      39.7  ...   \n",
            "104              3.2                      33.6  ...   \n",
            "105              1.2                      37.2  ...   \n",
            "106              1.1                      32.3  ...   \n",
            "107              2.0                      36.6  ...   \n",
            "\n",
            "     Number of Seeds per Pod (NSP)  Protein Content (PCO)    C_2    S_2  \\\n",
            "0                             1.86                   0.82  False  False   \n",
            "1                             1.87                   0.13   True  False   \n",
            "2                             2.04                   0.15   True  False   \n",
            "3                             2.20                   0.14  False  False   \n",
            "4                             1.88                   0.60  False   True   \n",
            "..                             ...                    ...    ...    ...   \n",
            "103                           2.60                   0.32  False   True   \n",
            "104                           2.60                   0.36  False  False   \n",
            "105                           1.80                   1.15   True  False   \n",
            "106                           2.10                   0.17   True   True   \n",
            "107                           1.90                   0.42  False  False   \n",
            "\n",
            "       S_3    G_2    G_3    G_4    G_5    G_6  \n",
            "0    False  False  False  False   True  False  \n",
            "1     True  False  False   True  False  False  \n",
            "2    False  False  False  False  False   True  \n",
            "3    False  False  False  False  False  False  \n",
            "4    False  False  False  False  False   True  \n",
            "..     ...    ...    ...    ...    ...    ...  \n",
            "103  False  False   True  False  False  False  \n",
            "104   True   True  False  False  False  False  \n",
            "105  False  False  False  False   True  False  \n",
            "106  False  False  False   True  False  False  \n",
            "107  False  False  False  False  False   True  \n",
            "\n",
            "[108 rows x 23 columns]\n"
          ]
        }
      ],
      "source": [
        "# # 🧩 One-Hot Encoding of C, S, G\n",
        "# full_data_onehot = pd.get_dummies(full_data, columns=[\"Parameters\"], prefix=\"Param\", drop_first=True)\n",
        "# Optionally also one-hot encode C, S, G if needed\n",
        "full_data_onehot = pd.get_dummies(full_data, columns=[\"C\", \"S\", \"G\"], prefix=[\"C\", \"S\", \"G\"], drop_first=True)\n",
        "\n",
        "# Print the one-hot encoded version\n",
        "print(full_data_onehot)\n",
        "\n",
        "# Save to file\n",
        "full_data_onehot.to_csv(\"3_one_hot_encoded.csv\", index=False)"
      ]
    }
  ],
  "metadata": {
    "language_info": {
      "name": "python"
    },
    "colab": {
      "provenance": [],
      "include_colab_link": true
    },
    "kernelspec": {
      "name": "python3",
      "display_name": "Python 3"
    }
  },
  "nbformat": 4,
  "nbformat_minor": 5
}