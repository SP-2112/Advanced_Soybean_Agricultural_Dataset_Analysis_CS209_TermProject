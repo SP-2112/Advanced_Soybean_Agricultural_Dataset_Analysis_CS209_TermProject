{
  "cells": [
    {
      "cell_type": "markdown",
      "metadata": {
        "colab_type": "text",
        "id": "view-in-github"
      },
      "source": [
        "<a href=\"https://colab.research.google.com/github/UtkarshRaj130/Advanced_Soybean_Agricultural_Dataset_Analysis/blob/main/Code_Notebooks/01_data_loading_and_cleaning.ipynb\" target=\"_parent\"><img src=\"https://colab.research.google.com/assets/colab-badge.svg\" alt=\"Open In Colab\"/></a>"
      ]
    },
    {
      "cell_type": "markdown",
      "id": "R0PrRyDoJFfv",
      "metadata": {
        "id": "R0PrRyDoJFfv"
      },
      "source": [
        "Download the Dataset from GitHub"
      ]
    },
    {
      "cell_type": "code",
      "execution_count": 1,
      "id": "i_EyZchxJIio",
      "metadata": {
        "colab": {
          "base_uri": "https://localhost:8080/"
        },
        "id": "i_EyZchxJIio",
        "outputId": "a6a052e9-ce9a-4485-e60a-f119d379dedf"
      },
      "outputs": [
        {
          "name": "stderr",
          "output_type": "stream",
          "text": [
            "'wget' is not recognized as an internal or external command,\n",
            "operable program or batch file.\n"
          ]
        }
      ],
      "source": [
        "!wget https://raw.githubusercontent.com/UtkarshRaj130/Advanced_Soybean_Agricultural_Dataset_Analysis/refs/heads/main/Dataset/3.csv -O 3.csv"
      ]
    },
    {
      "cell_type": "code",
      "execution_count": 6,
      "id": "038eea3a",
      "metadata": {
        "colab": {
          "base_uri": "https://localhost:8080/"
        },
        "id": "038eea3a",
        "outputId": "856cdd13-772b-4bac-cc60-76380abbfa4d"
      },
      "outputs": [
        {
          "name": "stdout",
          "output_type": "stream",
          "text": [
            "Original shape: (55450, 15)\n",
            "Duplicates found: 55342\n",
            "After removing duplicates: (108, 15)\n",
            "    Parameters Random   Plant Height (PH)  Number of Pods (NP)  \\\n",
            "0       C1S1G5      R1               50.5                130.3   \n",
            "1       C2S3G4      R1               44.5                132.0   \n",
            "2       C2S1G6      R1               52.2                150.0   \n",
            "3       C1S1G1      R1               50.5                140.8   \n",
            "4       C1S2G6      R2               49.2                175.6   \n",
            "..         ...     ...                ...                  ...   \n",
            "319     C1S2G3      R3               44.0                209.0   \n",
            "339     C1S3G2      R2               53.3                160.0   \n",
            "365     C2S1G5      R2               50.2                148.3   \n",
            "367     C2S2G4      R1               52.2                156.0   \n",
            "423     C1S1G6      R3               46.6                146.0   \n",
            "\n",
            "     Biological Weight (BW)  Sugars (Su)  \\\n",
            "0                       111        0.433   \n",
            "1                        80        0.334   \n",
            "2                        83        0.490   \n",
            "3                        66        0.163   \n",
            "4                        73        0.795   \n",
            "..                      ...          ...   \n",
            "319                     132        0.663   \n",
            "339                     130        0.165   \n",
            "365                     151        1.115   \n",
            "367                      66        0.295   \n",
            "423                     112        0.450   \n",
            "\n",
            "     Relative Water Content in Leaves (RWCL)  ChlorophyllA663  \\\n",
            "0                                      0.732              1.4   \n",
            "1                                      0.674              7.1   \n",
            "2                                      0.677              1.8   \n",
            "3                                      0.745              1.1   \n",
            "4                                      0.725              7.5   \n",
            "..                                       ...              ...   \n",
            "319                                    0.875              9.0   \n",
            "339                                    0.651              1.8   \n",
            "365                                    0.683              6.1   \n",
            "367                                    0.632              6.9   \n",
            "423                                    0.749              1.6   \n",
            "\n",
            "     Chlorophyllb649  Protein Percentage (PPE)  Weight of 300 Seeds (W3S)  \\\n",
            "0                3.1                      33.2                       33.6   \n",
            "1                2.2                      38.5                       34.4   \n",
            "2                1.3                      33.6                       35.2   \n",
            "3                3.0                      33.5                       52.3   \n",
            "4                2.1                      39.6                       31.2   \n",
            "..               ...                       ...                        ...   \n",
            "319              1.3                      39.7                       31.2   \n",
            "339              3.2                      33.6                       34.5   \n",
            "365              1.2                      37.2                       37.2   \n",
            "367              1.1                      32.3                       35.3   \n",
            "423              2.0                      36.6                       32.2   \n",
            "\n",
            "     Leaf Area Index (LAI)  Seed Yield per Unit Area (SYUA)  \\\n",
            "0                     0.08                           5567.4   \n",
            "1                     0.09                           2245.5   \n",
            "2                     0.07                           4326.7   \n",
            "3                     0.09                           6214.5   \n",
            "4                     0.10                           3897.8   \n",
            "..                     ...                              ...   \n",
            "319                   0.06                           4472.7   \n",
            "339                   0.10                           5643.7   \n",
            "365                   0.10                           3067.1   \n",
            "367                   0.09                           3112.2   \n",
            "423                   0.07                           3116.3   \n",
            "\n",
            "     Number of Seeds per Pod (NSP)  Protein Content (PCO)  \n",
            "0                             1.86                   0.82  \n",
            "1                             1.87                   0.13  \n",
            "2                             2.04                   0.15  \n",
            "3                             2.20                   0.14  \n",
            "4                             1.88                   0.60  \n",
            "..                             ...                    ...  \n",
            "319                           2.60                   0.32  \n",
            "339                           2.60                   0.36  \n",
            "365                           1.80                   1.15  \n",
            "367                           2.10                   0.17  \n",
            "423                           1.90                   0.42  \n",
            "\n",
            "[108 rows x 15 columns]\n"
          ]
        }
      ],
      "source": [
        "# 📥 Load Dataset and Remove Duplicates\n",
        "import pandas as pd\n",
        "\n",
        "# Load and inspect\n",
        "dataset_duplicates_removed = pd.read_csv('3.csv')\n",
        "print(\"Original shape:\", dataset_duplicates_removed.shape)\n",
        "print(\"Duplicates found:\", dataset_duplicates_removed.duplicated().sum())\n",
        "\n",
        "# Drop duplicates\n",
        "dataset_duplicates_removed = dataset_duplicates_removed.drop_duplicates()\n",
        "print(\"After removing duplicates:\", dataset_duplicates_removed.shape)\n",
        "\n",
        "# Print the DataFrame\n",
        "print(dataset_duplicates_removed)\n",
        "\n",
        "# Save cleaned version\n",
        "dataset_duplicates_removed.to_csv('3_duplicates_removed.csv', index=False)"
      ]
    }
  ],
  "metadata": {
    "colab": {
      "include_colab_link": true,
      "provenance": []
    },
    "kernelspec": {
      "display_name": "Python 3",
      "name": "python3"
    },
    "language_info": {
      "codemirror_mode": {
        "name": "ipython",
        "version": 3
      },
      "file_extension": ".py",
      "mimetype": "text/x-python",
      "name": "python",
      "nbconvert_exporter": "python",
      "pygments_lexer": "ipython3",
      "version": "3.11.11"
    }
  },
  "nbformat": 4,
  "nbformat_minor": 5
}
